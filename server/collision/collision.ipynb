{
 "cells": [
  {
   "cell_type": "code",
   "execution_count": 25,
   "metadata": {
    "collapsed": false
   },
   "outputs": [],
   "source": [
    "import numpy as np\n",
    "import xml\n",
    "import matplotlib.pyplot as plt\n",
    "points = \"40.34214 3.5625 -219.1813 -60.08951 3.5625 -219.1813 40.34214 3.5625 -202.3688 -60.08951 3.5625 -202.3688 -71.15786 3.5625 -213.4372 -71.15786 3.5625 -219.1813 -60.08951 3.5625 -249.9313 -71.08951 3.5625 -249.9313 -71.08951 3.5625 -219.1813\"\n",
    "points = points.split()\n",
    "points = np.array(list(map(float, points))).\\\n",
    "    reshape(len(points)//3, 3)\n",
    "\n",
    "idx = \"1 0 0 2 2 3 3 4 4 5 6 1 7 6 8 7\"\n",
    "idx = idx.split()\n",
    "idx = np.array(list(map(int, idx))).reshape(len(idx)//2, 2)\n",
    "\n",
    "xs =0.0254 * points[idx, 0].T\n",
    "zs =0.0254* points[idx, 2].T\n",
    "\n",
    "points = \"-212.999 4.6875 156.2939 -196.991 4.6875 159.6128 -227.6025 4.6875 148.9449 -239.8063 4.6875 138.0667 -248.7788 4.6875 124.4005 -253.9086 4.6875 108.8777 -254.8459 4.6875 92.5562 -251.527 4.6875 76.54823 -244.178 4.6875 61.94471 -233.2997 4.6875 49.74086 -219.6335 4.6875 40.76835 -204.1108 4.6875 35.63863 -187.7893 4.6875 34.7013 -171.7813 4.6875 38.02022 -157.1778 4.6875 45.36922 -144.9739 4.6875 56.24747 -136.0014 4.6875 69.91365 -130.8717 4.6875 85.43642 -129.9344 4.6875 101.7579 -133.2533 4.6875 117.7659 -140.6023 4.6875 132.3694 -151.4805 4.6875 144.5733 -165.1467 4.6875 153.5458 -180.6695 4.6875 158.6755\"\n",
    "points = points.split()\n",
    "points = np.array(list(map(float, points))).\\\n",
    "    reshape(len(points)//3, 3)\n",
    "\n",
    "idx = \"1 0 0 2 2 3 3 4 4 5 5 6 6 7 7 8 8 9 9 10 10 11 11 12 12 13 13 14 14 15 15 16 16 17 17 18 18 19 19 20 20 21 21 22 22 23 23 1\"\n",
    "idx = idx.split()\n",
    "idx = np.array(list(map(int, idx))).reshape(len(idx)//2, 2)\n",
    "\n",
    "np.append(xs, 0.0254 * points[idx, 0].T, 1)\n",
    "np.append(zs, 0.0254* points[idx, 2].T, 1)\n",
    "\n",
    "points = \"-208.3777 5.0625 124.8484 -200.6659 5.0625 128.0427 -215 5.0625 119.7669 -220.0815 5.0625 113.1447 -223.2758 5.0625 105.4329 -224.3653 5.0625 97.15706 -223.2758 5.0625 88.88127 -220.0815 5.0625 81.16946 -215 5.0625 74.54718 -208.3777 5.0625 69.46572 -200.6659 5.0625 66.27138 -192.3901 5.0625 65.18185 -184.1143 5.0625 66.27138 -176.4025 5.0625 69.46572 -169.7802 5.0625 74.54718 -164.6988 5.0625 81.16946 -161.5044 5.0625 88.88127 -160.4149 5.0625 97.15706 -161.5044 5.0625 105.4329 -164.6988 5.0625 113.1447 -169.7802 5.0625 119.7669 -176.4025 5.0625 124.8484 -184.1143 5.0625 128.0427 -192.3901 5.0625 129.1323\"\n",
    "points = points.split()\n",
    "points = np.array(list(map(float, points))).\\\n",
    "    reshape(len(points)//3, 3)\n",
    "\n",
    "idx = \"1 0 0 2 2 3 3 4 4 5 5 6 6 7 7 8 8 9 9 10 10 11 11 12 12 13 13 14 14 15 15 16 16 17 17 18 18 19 19 20 20 21 21 22 22 23 23 1\"\n",
    "idx = idx.split()\n",
    "idx = np.array(list(map(int, idx))).reshape(len(idx)//2, 2)\n",
    "\n",
    "np.append(xs, 0.0254 * points[idx, 0].T, 1)\n",
    "np.append(zs, 0.0254* points[idx, 2].T, 1)\n",
    "\n",
    "points = \"31.24837 38.6137 81.18934 31.24837 38.6137 41.40468 -11.77235 38.6137 81.18934 -11.77235 38.6137 41.40468 -43.43998 38.6137 41.40468 -43.43998 38.6137 -12.37988 2.782208 38.6137 -12.37988 8.216041 38.6137 -12.37988 8.216041 38.6137 18.88516 -18.05325 38.6137 18.88516 -18.05325 38.6137 24.71702 8.216041 38.6137 24.71702 8.216041 38.6137 41.40468\"\n",
    "points = points.split()\n",
    "points = np.array(list(map(float, points))).\\\n",
    "    reshape(len(points)//3, 3)\n",
    "\n",
    "idx = \"1 0 0 2 2 3 3 4 4 5 5 6 6 7 7 8 9 8 10 9 11 10 11 12 12 1\"\n",
    "idx = idx.split()\n",
    "idx = np.array(list(map(int, idx))).reshape(len(idx)//2, 2)\n",
    "\n",
    "np.append(xs, 0.0254 * points[idx, 0].T, 1)\n",
    "np.append(zs, 0.0254* points[idx, 2].T, 1)\n",
    "\n",
    "def collide(x, z, vx, vz, ignore = -1):\n",
    "    np.seterr(divide=\"ignore\")\n",
    "    vx = -vx\n",
    "    vz = -vz\n",
    "    trans_xs = xs - x\n",
    "    trans_zs = zs - z\n",
    "    x1 = trans_xs[0]\n",
    "    x2 = trans_xs[1]\n",
    "    z1 = trans_zs[0]\n",
    "    z2 = trans_zs[1]\n",
    "    \n",
    "    denom = ((x1 - x2) * vz - (z1 - z2) * vx)\n",
    "    \n",
    "    t = ((-x2 * vz - -z2 * vx)) / denom\n",
    "    a = ((x1 - x2) * -z2  - (z1 - z2) * - x2) / denom\n",
    "    #print (t)\n",
    "    #print(a)\n",
    "    \n",
    "    a [np.logical_not (np.logical_and(t > 0.001, np.logical_and(t < 1, a > 0)))] = 99\n",
    "    if ignore != -1:\n",
    "        a[ignore] = 99\n",
    "    return np.argmin(a), np.min(a)\n",
    "\n",
    "def reflect(vx, vz, n):\n",
    "    #maths\n",
    "    nz = xs[1][n] - xs[0][n]\n",
    "    nx = -zs[1][n] + zs[0][n]\n",
    "    \n",
    "    mul = 1.8 * (nx * vx + nz * vz) / (nx * nx + nz * nz)\n",
    "    \n",
    "    return vx - mul * nx, vz - mul * nz\n",
    "\n",
    "slow = .01\n",
    "timestep = .01\n",
    "def path(x,z, vx, vz):\n",
    "    \n",
    "    while vx * vx + vz * vz > slow * slow:\n",
    "        n, tiem = collide(x, z, vx, vz)\n",
    "        if tiem < timestep:\n",
    "            timeleft = timestep\n",
    "            while tiem < timeleft:\n",
    "                x += vx * tiem\n",
    "                z += vz * tiem\n",
    "                vx, vz = reflect(vx, vz, n)\n",
    "                n, tiem = collide(x, z, vx, vz, n)\n",
    "                \n",
    "            x += vx * (timeleft)\n",
    "            z += vz * (timeleft)\n",
    "        else:\n",
    "            x += vx * timestep\n",
    "            z += vz * timestep\n",
    "            \n",
    "        l = np.sqrt(vx * vx + vz * vz)\n",
    "        vx -= slow * vx/l\n",
    "        vz -= slow * vz/l\n",
    "        \n",
    "        yield x, z"
   ]
  },
  {
   "cell_type": "code",
   "execution_count": 26,
   "metadata": {
    "collapsed": false
   },
   "outputs": [
    {
     "data": {
      "image/png": "[encoded data removed]",
      "text/plain": [
       "<matplotlib.figure.Figure at 0x84fc16dda0>"
      ]
     },
     "metadata": {},
     "output_type": "display_data"
    }
   ],
   "source": [
    "patsh= np.array(list(path(0, 0, -5, 2.0)))\n",
    "plt.plot(patsh[:, 0], patsh[:, 1])\n",
    "plt.plot(xs, zs)\n",
    "plt.show()"
   ]
  },
  {
   "cell_type": "code",
   "execution_count": 16,
   "metadata": {
    "collapsed": false
   },
   "outputs": [
    {
     "data": {
      "text/plain": [
       "5"
      ]
     },
     "execution_count": 16,
     "metadata": {},
     "output_type": "execute_result"
    }
   ],
   "source": [
    "\n",
    "for i in range(i):\n",
    "    pass\n",
    "i"
   ]
  },
  {
   "cell_type": "code",
   "execution_count": 27,
   "metadata": {
    "collapsed": false
   },
   "outputs": [
    {
     "data": {
      "image/png": "[encoded data removed]",
      "text/plain": [
       "<matplotlib.figure.Figure at 0x84fc2e6940>"
      ]
     },
     "metadata": {},
     "output_type": "display_data"
    }
   ],
   "source": [
    "plt.plot(xs, zs)\n",
    "plt.show()"
   ]
  },
  {
   "cell_type": "code",
   "execution_count": 165,
   "metadata": {
    "collapsed": false
   },
   "outputs": [
    {
     "data": {
      "text/plain": [
       "(-0.80000000000000004, 1.0)"
      ]
     },
     "execution_count": 165,
     "metadata": {},
     "output_type": "execute_result"
    }
   ],
   "source": [
    "\n",
    "    \n",
    "    \n",
    "n, t  = collide(0, 0, 1, 1)\n",
    "\n",
    "reflect(1, 1, n)"
   ]
  },
  {
   "cell_type": "code",
   "execution_count": 166,
   "metadata": {
    "collapsed": false
   },
   "outputs": [],
   "source": [
    "for _ in range(1000):\n",
    "    collide(0, 0, .714, .714)"
   ]
  },
  {
   "cell_type": "code",
   "execution_count": 28,
   "metadata": {
    "collapsed": false
   },
   "outputs": [
    {
     "data": {
      "text/plain": [
       "array([[-1.52627355,  1.02469036,  1.02469036, -1.52627355, -1.80740964,\n",
       "        -1.52627355, -1.80567355, -1.80567355],\n",
       "       [ 1.02469036,  1.02469036, -1.52627355, -1.80740964, -1.80740964,\n",
       "        -1.52627355, -1.52627355, -1.80567355]])"
      ]
     },
     "execution_count": 28,
     "metadata": {},
     "output_type": "execute_result"
    }
   ],
   "source": [
    "xs"
   ]
  },
  {
   "cell_type": "code",
   "execution_count": 17,
   "metadata": {
    "collapsed": false
   },
   "outputs": [],
   "source": [
    "i=path(0, 0, -5, 2.0)"
   ]
  },
  {
   "cell_type": "code",
   "execution_count": 19,
   "metadata": {
    "collapsed": false
   },
   "outputs": [
    {
     "data": {
      "text/plain": [
       "(-0.05, 0.02)"
      ]
     },
     "execution_count": 19,
     "metadata": {},
     "output_type": "execute_result"
    }
   ],
   "source": [
    "next(i)"
   ]
  },
  {
   "cell_type": "code",
   "execution_count": null,
   "metadata": {
    "collapsed": true
   },
   "outputs": [],
   "source": []
  }
 ],
 "metadata": {
  "anaconda-cloud": {},
  "kernelspec": {
   "display_name": "Python [default]",
   "language": "python",
   "name": "python3"
  },
  "language_info": {
   "codemirror_mode": {
    "name": "ipython",
    "version": 3
   },
   "file_extension": ".py",
   "mimetype": "text/x-python",
   "name": "python",
   "nbconvert_exporter": "python",
   "pygments_lexer": "ipython3",
   "version": "3.5.2"
  }
 },
 "nbformat": 4,
 "nbformat_minor": 1
}
