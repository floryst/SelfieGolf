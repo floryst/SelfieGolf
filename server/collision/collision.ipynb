{
 "cells": [
  {
   "cell_type": "code",
   "execution_count": 7,
   "metadata": {
    "collapsed": true
   },
   "outputs": [],
   "source": [
    "import numpy as np\n",
    "import xml\n",
    "import matplotlib.pyplot as plt\n",
    "points = \"8.216041 38.6137 18.88516 -18.05325 38.6137 18.88516 8.216041 38.6137 -12.37988 2.782208 38.6137 -12.37988 -43.43998 38.6137 -12.37988 -43.43998 38.6137 41.40468 -11.77235 38.6137 41.40468 -11.77235 38.6137 81.18934 31.24837 38.6137 81.18934 31.24837 38.6137 41.40468 8.216041 38.6137 41.40468 8.216041 38.6137 24.71702 -18.05325 38.6137 24.71702\"\n",
    "points = points.split()\n",
    "points = np.array(list(map(float, points))).\\\n",
    "    reshape(len(points)//3, 3)\n",
    "\n",
    "idx = \"1 0 2 0 3 2 4 3 5 4 6 5 7 6 8 7 9 8 10 9 11 10 11 12 12 1\"\n",
    "idx = idx.split()\n",
    "idx = np.array(list(map(int, idx))).reshape(len(idx)//2, 2)\n",
    "\n",
    "xs =0.0254 * points[idx, 0].T\n",
    "zs =0.0254* points[idx, 2].T\n",
    "\n",
    "def collide(x, z, vx, vz, ignore = -1):\n",
    "    np.seterr(divide=\"ignore\")\n",
    "    vx = -vx\n",
    "    vz = -vz\n",
    "    trans_xs = xs - x\n",
    "    trans_zs = zs - z\n",
    "    x1 = trans_xs[0]\n",
    "    x2 = trans_xs[1]\n",
    "    z1 = trans_zs[0]\n",
    "    z2 = trans_zs[1]\n",
    "    \n",
    "    denom = ((x1 - x2) * vz - (z1 - z2) * vx)\n",
    "    \n",
    "    t = ((-x2 * vz - -z2 * vx)) / denom\n",
    "    a = ((x1 - x2) * -z2  - (z1 - z2) * - x2) / denom\n",
    "    #print (t)\n",
    "    #print(a)\n",
    "    \n",
    "    a [np.logical_not (np.logical_and(t > 0.001, np.logical_and(t < 1, a > 0)))] = 99\n",
    "    if ignore != -1:\n",
    "        a[ignore] = 99\n",
    "    return np.argmin(a), np.min(a)\n",
    "\n",
    "def reflect(vx, vz, n):\n",
    "    #maths\n",
    "    nz = xs[1][n] - xs[0][n]\n",
    "    nx = -zs[1][n] + zs[0][n]\n",
    "    \n",
    "    mul = 1.8 * (nx * vx + nz * vz) / (nx * nx + nz * nz)\n",
    "    \n",
    "    return vx - mul * nx, vz - mul * nz\n",
    "\n",
    "slow = .01\n",
    "timestep = .01\n",
    "def path(x,z, vx, vz):\n",
    "    \n",
    "    while vx * vx + vz * vz > slow * slow:\n",
    "        n, tiem = collide(x, z, vx, vz)\n",
    "        if tiem < timestep:\n",
    "            timeleft = timestep\n",
    "            while tiem < timeleft:\n",
    "                x += vx * tiem\n",
    "                z += vz * tiem\n",
    "                vx, vz = reflect(vx, vz, n)\n",
    "                n, tiem = collide(x, z, vx, vz, n)\n",
    "                \n",
    "            x += vx * (timeleft)\n",
    "            z += vz * (timeleft)\n",
    "        else:\n",
    "            x += vx * timestep\n",
    "            z += vz * timestep\n",
    "            \n",
    "        l = np.sqrt(vx * vx + vz * vz)\n",
    "        vx -= slow * vx/l\n",
    "        vz -= slow * vz/l\n",
    "        \n",
    "        yield x, z"
   ]
  },
  {
   "cell_type": "code",
   "execution_count": 9,
   "metadata": {
    "collapsed": false
   },
   "outputs": [
    {
     "data": {
      "image/png": "[encoded data removed]",
      "text/plain": [
       "<matplotlib.figure.Figure at 0xbda4cc8240>"
      ]
     },
     "metadata": {},
     "output_type": "display_data"
    }
   ],
   "source": [
    "patsh= np.array(list(path(0, 0, -5, 2.0)))\n",
    "plt.plot(patsh[:, 0], patsh[:, 1])\n",
    "plt.plot(xs, zs)\n",
    "plt.show()"
   ]
  },
  {
   "cell_type": "code",
   "execution_count": 176,
   "metadata": {
    "collapsed": false
   },
   "outputs": [],
   "source": []
  },
  {
   "cell_type": "code",
   "execution_count": 162,
   "metadata": {
    "collapsed": false
   },
   "outputs": [
    {
     "data": {
      "image/png": "[encoded data removed]",
      "text/plain": [
       "<matplotlib.figure.Figure at 0xf53dbb2dd8>"
      ]
     },
     "metadata": {},
     "output_type": "display_data"
    }
   ],
   "source": [
    "plt.plot(xs, zs)\n",
    "plt.show()"
   ]
  },
  {
   "cell_type": "code",
   "execution_count": 165,
   "metadata": {
    "collapsed": false
   },
   "outputs": [
    {
     "data": {
      "text/plain": [
       "(-0.80000000000000004, 1.0)"
      ]
     },
     "execution_count": 165,
     "metadata": {},
     "output_type": "execute_result"
    }
   ],
   "source": [
    "\n",
    "    \n",
    "    \n",
    "n, t  = collide(0, 0, 1, 1)\n",
    "\n",
    "reflect(1, 1, n)"
   ]
  },
  {
   "cell_type": "code",
   "execution_count": 166,
   "metadata": {
    "collapsed": false
   },
   "outputs": [],
   "source": [
    "for _ in range(1000):\n",
    "    collide(0, 0, .714, .714)"
   ]
  },
  {
   "cell_type": "code",
   "execution_count": 172,
   "metadata": {
    "collapsed": false
   },
   "outputs": [],
   "source": []
  },
  {
   "cell_type": "code",
   "execution_count": 174,
   "metadata": {
    "collapsed": false
   },
   "outputs": [
    {
     "data": {
      "image/png": "[encoded data removed]",
      "text/plain": [
       "<matplotlib.figure.Figure at 0xf53dd16208>"
      ]
     },
     "metadata": {},
     "output_type": "display_data"
    }
   ],
   "source": []
  },
  {
   "cell_type": "code",
   "execution_count": 135,
   "metadata": {
    "collapsed": false
   },
   "outputs": [
    {
     "ename": "AttributeError",
     "evalue": "module 'math' has no attribute 'sgn'",
     "output_type": "error",
     "traceback": [
      "\u001b[0;31m---------------------------------------------------------------------------\u001b[0m",
      "\u001b[0;31mAttributeError\u001b[0m                            Traceback (most recent call last)",
      "\u001b[0;32m<ipython-input-135-0edb360cb40c>\u001b[0m in \u001b[0;36m<module>\u001b[0;34m()\u001b[0m\n\u001b[0;32m----> 1\u001b[0;31m \u001b[0mmath\u001b[0m\u001b[1;33m.\u001b[0m\u001b[0msgn\u001b[0m\u001b[1;33m\u001b[0m\u001b[0m\n\u001b[0m",
      "\u001b[0;31mAttributeError\u001b[0m: module 'math' has no attribute 'sgn'"
     ]
    }
   ],
   "source": []
  },
  {
   "cell_type": "code",
   "execution_count": null,
   "metadata": {
    "collapsed": true
   },
   "outputs": [],
   "source": []
  }
 ],
 "metadata": {
  "anaconda-cloud": {},
  "kernelspec": {
   "display_name": "Python [default]",
   "language": "python",
   "name": "python3"
  },
  "language_info": {
   "codemirror_mode": {
    "name": "ipython",
    "version": 3
   },
   "file_extension": ".py",
   "mimetype": "text/x-python",
   "name": "python",
   "nbconvert_exporter": "python",
   "pygments_lexer": "ipython3",
   "version": "3.5.2"
  }
 },
 "nbformat": 4,
 "nbformat_minor": 1
}
