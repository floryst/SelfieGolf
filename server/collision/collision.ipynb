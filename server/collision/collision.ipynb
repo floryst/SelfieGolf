{
 "cells": [
  {
   "cell_type": "code",
   "execution_count": 41,
   "metadata": {
    "collapsed": true
   },
   "outputs": [],
   "source": [
    "import numpy as np\n",
    "import xml\n",
    "import matplotlib.pyplot as plt"
   ]
  },
  {
   "cell_type": "code",
   "execution_count": 12,
   "metadata": {
    "collapsed": false
   },
   "outputs": [],
   "source": [
    "import xml.etree.ElementTree as et\n",
    "tree = et.parse(\"walls.dae\")\n",
    "root = tree.getroot()"
   ]
  },
  {
   "cell_type": "code",
   "execution_count": 84,
   "metadata": {
    "collapsed": false
   },
   "outputs": [],
   "source": [
    "points = \"8.216041 38.6137 18.88516 -18.05325 38.6137 18.88516 8.216041 38.6137 -12.37988 2.782208 38.6137 -12.37988 -43.43998 38.6137 -12.37988 -43.43998 38.6137 41.40468 -11.77235 38.6137 41.40468 -11.77235 38.6137 81.18934 31.24837 38.6137 81.18934 31.24837 38.6137 41.40468 8.216041 38.6137 41.40468 8.216041 38.6137 24.71702 -18.05325 38.6137 24.71702\"\n",
    "points = points.split()\n",
    "points = np.array(list(map(float, points))).\\\n",
    "    reshape(len(points)//3, 3)\n",
    "\n",
    "idx = \"1 0 2 0 3 2 4 3 5 4 6 5 7 6 8 7 9 8 10 9 11 10 11 12 12 1\"\n",
    "idx = idx.split()\n",
    "idx = np.array(list(map(int, idx))).reshape(len(idx)//2, 2)\n",
    "\n",
    "xs = points[idx, 0].T\n",
    "zs = points[idx, 2].T\n",
    "\n"
   ]
  },
  {
   "cell_type": "code",
   "execution_count": 85,
   "metadata": {
    "collapsed": false
   },
   "outputs": [
    {
     "data": {
      "image/png": "[encoded data removed]",
      "text/plain": [
       "<matplotlib.figure.Figure at 0xf53dbccf98>"
      ]
     },
     "metadata": {},
     "output_type": "display_data"
    }
   ],
   "source": [
    "plt.plot(xs, zs)\n",
    "plt.show()"
   ]
  },
  {
   "cell_type": "code",
   "execution_count": 93,
   "metadata": {
    "collapsed": false
   },
   "outputs": [],
   "source": [
    "def collide(x, z, vx, vz):\n",
    "    trans_xs = xs - x\n",
    "    trans_zs = zs - z\n",
    "    x1 = trans_xs[0]\n",
    "    x2 = trans_xs[1]\n",
    "    z1 = trans_zs[0]\n",
    "    z2 = trans_zs[1]\n",
    "    \n",
    "    denom = ((x1 - x2) * vz - (z1 - z2) * vx)\n",
    "    \n",
    "    t = ((-x2 * vz - -z2 * vx)) / denom\n",
    "    a = ((x1 - x2) * -z2  - (z1 - z2) * - x2) / denom\n",
    "    print (t)\n",
    "    print(a)\n",
    "    \n",
    "    valid = np.logical_and(t > 0, np.logical_and(t < 1, a > 0))\n",
    "    print (a[valid])\n",
    "    \n",
    "    "
   ]
  },
  {
   "cell_type": "code",
   "execution_count": 96,
   "metadata": {
    "collapsed": false
   },
   "outputs": [
    {
     "name": "stdout",
     "output_type": "stream",
     "text": [
      "[       -inf  0.60403441         inf         inf  0.23017535        -inf\n",
      " -1.04071971        -inf  2.04071971        -inf  2.48115554        -inf\n",
      " -3.2382739 ]\n",
      "[       inf   8.216041       -inf       -inf -43.43998        -inf\n",
      " -11.77235        -inf  31.24837         inf   8.216041       -inf\n",
      " -18.05325 ]\n",
      "[ 8.216041]\n"
     ]
    },
    {
     "name": "stderr",
     "output_type": "stream",
     "text": [
      "C:\\Users\\tgreer\\Anaconda3\\lib\\site-packages\\ipykernel\\__main__.py:11: RuntimeWarning: divide by zero encountered in true_divide\n",
      "C:\\Users\\tgreer\\Anaconda3\\lib\\site-packages\\ipykernel\\__main__.py:12: RuntimeWarning: divide by zero encountered in true_divide\n"
     ]
    }
   ],
   "source": [
    "collide(0, 0, -1, 0)"
   ]
  },
  {
   "cell_type": "code",
   "execution_count": null,
   "metadata": {
    "collapsed": true
   },
   "outputs": [],
   "source": []
  }
 ],
 "metadata": {
  "anaconda-cloud": {},
  "kernelspec": {
   "display_name": "Python [default]",
   "language": "python",
   "name": "python3"
  },
  "language_info": {
   "codemirror_mode": {
    "name": "ipython",
    "version": 3
   },
   "file_extension": ".py",
   "mimetype": "text/x-python",
   "name": "python",
   "nbconvert_exporter": "python",
   "pygments_lexer": "ipython3",
   "version": "3.5.2"
  }
 },
 "nbformat": 4,
 "nbformat_minor": 1
}
